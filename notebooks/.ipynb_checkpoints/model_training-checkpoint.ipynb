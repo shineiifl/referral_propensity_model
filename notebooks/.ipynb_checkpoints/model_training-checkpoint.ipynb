{
 "cells": [
  {
   "cell_type": "code",
   "execution_count": 1,
   "id": "80e52a39",
   "metadata": {},
   "outputs": [],
   "source": [
    "import pandas as pd\n",
    "import numpy as np\n",
    "import matplotlib.pyplot as plt\n",
    "import seaborn as sns\n",
    "import warnings\n",
    "\n",
    "warnings.filterwarnings('ignore')\n",
    "\n",
    "pd.set_option('display.max_columns', None)\n",
    "\n",
    "from datetime import datetime\n",
    "from datetime import date"
   ]
  },
  {
   "cell_type": "code",
   "execution_count": 2,
   "id": "5a92b6c5",
   "metadata": {},
   "outputs": [],
   "source": [
    "df_model = pd.read_csv(\"../inter_data/processed_catboost.csv\")\n",
    "df_model = df_model[[col for col in df_model.columns  if \"Unnamed\" not in col]]"
   ]
  },
  {
   "cell_type": "markdown",
   "id": "2d3ddf09",
   "metadata": {},
   "source": [
    "##  catboost"
   ]
  },
  {
   "cell_type": "code",
   "execution_count": 3,
   "id": "b388b201",
   "metadata": {},
   "outputs": [],
   "source": [
    "X = df_model.drop(\"target\", axis=1)\n",
    "y = df_model[\"target\"]\n"
   ]
  },
  {
   "cell_type": "code",
   "execution_count": 4,
   "id": "557d5c05",
   "metadata": {},
   "outputs": [
    {
     "data": {
      "text/html": [
       "<div>\n",
       "<style scoped>\n",
       "    .dataframe tbody tr th:only-of-type {\n",
       "        vertical-align: middle;\n",
       "    }\n",
       "\n",
       "    .dataframe tbody tr th {\n",
       "        vertical-align: top;\n",
       "    }\n",
       "\n",
       "    .dataframe thead th {\n",
       "        text-align: right;\n",
       "    }\n",
       "</style>\n",
       "<table border=\"1\" class=\"dataframe\">\n",
       "  <thead>\n",
       "    <tr style=\"text-align: right;\">\n",
       "      <th></th>\n",
       "      <th>IsKarvy</th>\n",
       "      <th>age</th>\n",
       "      <th>months_since_last_login</th>\n",
       "      <th>months_since_last_trade</th>\n",
       "      <th>dp_holding</th>\n",
       "      <th>total_logins_one_year</th>\n",
       "      <th>total_trades_one_year</th>\n",
       "    </tr>\n",
       "  </thead>\n",
       "  <tbody>\n",
       "    <tr>\n",
       "      <th>count</th>\n",
       "      <td>62882.000000</td>\n",
       "      <td>62882.000000</td>\n",
       "      <td>62882.000000</td>\n",
       "      <td>62882.000000</td>\n",
       "      <td>5.411000e+04</td>\n",
       "      <td>62882.000000</td>\n",
       "      <td>62882.000000</td>\n",
       "    </tr>\n",
       "    <tr>\n",
       "      <th>mean</th>\n",
       "      <td>0.011148</td>\n",
       "      <td>36.045991</td>\n",
       "      <td>51.851549</td>\n",
       "      <td>61.845675</td>\n",
       "      <td>5.472914e+04</td>\n",
       "      <td>216.101523</td>\n",
       "      <td>63.350545</td>\n",
       "    </tr>\n",
       "    <tr>\n",
       "      <th>std</th>\n",
       "      <td>0.104994</td>\n",
       "      <td>22.198628</td>\n",
       "      <td>61.942209</td>\n",
       "      <td>63.220364</td>\n",
       "      <td>1.249243e+06</td>\n",
       "      <td>908.747005</td>\n",
       "      <td>763.461060</td>\n",
       "    </tr>\n",
       "    <tr>\n",
       "      <th>min</th>\n",
       "      <td>0.000000</td>\n",
       "      <td>1.000000</td>\n",
       "      <td>0.515198</td>\n",
       "      <td>0.515198</td>\n",
       "      <td>0.000000e+00</td>\n",
       "      <td>0.000000</td>\n",
       "      <td>0.000000</td>\n",
       "    </tr>\n",
       "    <tr>\n",
       "      <th>25%</th>\n",
       "      <td>0.000000</td>\n",
       "      <td>22.000000</td>\n",
       "      <td>0.778042</td>\n",
       "      <td>1.533705</td>\n",
       "      <td>0.000000e+00</td>\n",
       "      <td>0.000000</td>\n",
       "      <td>0.000000</td>\n",
       "    </tr>\n",
       "    <tr>\n",
       "      <th>50%</th>\n",
       "      <td>0.000000</td>\n",
       "      <td>29.000000</td>\n",
       "      <td>5.607705</td>\n",
       "      <td>13.657154</td>\n",
       "      <td>0.000000e+00</td>\n",
       "      <td>6.000000</td>\n",
       "      <td>0.000000</td>\n",
       "    </tr>\n",
       "    <tr>\n",
       "      <th>75%</th>\n",
       "      <td>0.000000</td>\n",
       "      <td>40.000000</td>\n",
       "      <td>132.000000</td>\n",
       "      <td>132.000000</td>\n",
       "      <td>0.000000e+00</td>\n",
       "      <td>43.000000</td>\n",
       "      <td>1.000000</td>\n",
       "    </tr>\n",
       "    <tr>\n",
       "      <th>max</th>\n",
       "      <td>1.000000</td>\n",
       "      <td>121.000000</td>\n",
       "      <td>132.000000</td>\n",
       "      <td>235.854738</td>\n",
       "      <td>1.651739e+08</td>\n",
       "      <td>53532.000000</td>\n",
       "      <td>89876.000000</td>\n",
       "    </tr>\n",
       "  </tbody>\n",
       "</table>\n",
       "</div>"
      ],
      "text/plain": [
       "            IsKarvy           age  months_since_last_login  \\\n",
       "count  62882.000000  62882.000000             62882.000000   \n",
       "mean       0.011148     36.045991                51.851549   \n",
       "std        0.104994     22.198628                61.942209   \n",
       "min        0.000000      1.000000                 0.515198   \n",
       "25%        0.000000     22.000000                 0.778042   \n",
       "50%        0.000000     29.000000                 5.607705   \n",
       "75%        0.000000     40.000000               132.000000   \n",
       "max        1.000000    121.000000               132.000000   \n",
       "\n",
       "       months_since_last_trade    dp_holding  total_logins_one_year  \\\n",
       "count             62882.000000  5.411000e+04           62882.000000   \n",
       "mean                 61.845675  5.472914e+04             216.101523   \n",
       "std                  63.220364  1.249243e+06             908.747005   \n",
       "min                   0.515198  0.000000e+00               0.000000   \n",
       "25%                   1.533705  0.000000e+00               0.000000   \n",
       "50%                  13.657154  0.000000e+00               6.000000   \n",
       "75%                 132.000000  0.000000e+00              43.000000   \n",
       "max                 235.854738  1.651739e+08           53532.000000   \n",
       "\n",
       "       total_trades_one_year  \n",
       "count           62882.000000  \n",
       "mean               63.350545  \n",
       "std               763.461060  \n",
       "min                 0.000000  \n",
       "25%                 0.000000  \n",
       "50%                 0.000000  \n",
       "75%                 1.000000  \n",
       "max             89876.000000  "
      ]
     },
     "execution_count": 4,
     "metadata": {},
     "output_type": "execute_result"
    }
   ],
   "source": [
    "X.describe()"
   ]
  },
  {
   "cell_type": "code",
   "execution_count": 5,
   "id": "bc467e63",
   "metadata": {},
   "outputs": [
    {
     "data": {
      "text/html": [
       "<div>\n",
       "<style scoped>\n",
       "    .dataframe tbody tr th:only-of-type {\n",
       "        vertical-align: middle;\n",
       "    }\n",
       "\n",
       "    .dataframe tbody tr th {\n",
       "        vertical-align: top;\n",
       "    }\n",
       "\n",
       "    .dataframe thead th {\n",
       "        text-align: right;\n",
       "    }\n",
       "</style>\n",
       "<table border=\"1\" class=\"dataframe\">\n",
       "  <thead>\n",
       "    <tr style=\"text-align: right;\">\n",
       "      <th></th>\n",
       "      <th>num_unique</th>\n",
       "    </tr>\n",
       "  </thead>\n",
       "  <tbody>\n",
       "    <tr>\n",
       "      <th>IncomePA</th>\n",
       "      <td>6</td>\n",
       "    </tr>\n",
       "    <tr>\n",
       "      <th>cm_occup</th>\n",
       "      <td>6</td>\n",
       "    </tr>\n",
       "    <tr>\n",
       "      <th>E2Channel</th>\n",
       "      <td>6</td>\n",
       "    </tr>\n",
       "    <tr>\n",
       "      <th>IsKarvy</th>\n",
       "      <td>2</td>\n",
       "    </tr>\n",
       "    <tr>\n",
       "      <th>KRA YN</th>\n",
       "      <td>2</td>\n",
       "    </tr>\n",
       "    <tr>\n",
       "      <th>age</th>\n",
       "      <td>96</td>\n",
       "    </tr>\n",
       "    <tr>\n",
       "      <th>months_since_last_login</th>\n",
       "      <td>2043</td>\n",
       "    </tr>\n",
       "    <tr>\n",
       "      <th>months_since_last_trade</th>\n",
       "      <td>3224</td>\n",
       "    </tr>\n",
       "    <tr>\n",
       "      <th>dp_holding</th>\n",
       "      <td>4678</td>\n",
       "    </tr>\n",
       "    <tr>\n",
       "      <th>total_logins_one_year</th>\n",
       "      <td>3249</td>\n",
       "    </tr>\n",
       "    <tr>\n",
       "      <th>total_trades_one_year</th>\n",
       "      <td>1519</td>\n",
       "    </tr>\n",
       "    <tr>\n",
       "      <th>target</th>\n",
       "      <td>2</td>\n",
       "    </tr>\n",
       "  </tbody>\n",
       "</table>\n",
       "</div>"
      ],
      "text/plain": [
       "                         num_unique\n",
       "IncomePA                          6\n",
       "cm_occup                          6\n",
       "E2Channel                         6\n",
       "IsKarvy                           2\n",
       "KRA YN                            2\n",
       "age                              96\n",
       "months_since_last_login        2043\n",
       "months_since_last_trade        3224\n",
       "dp_holding                     4678\n",
       "total_logins_one_year          3249\n",
       "total_trades_one_year          1519\n",
       "target                            2"
      ]
     },
     "execution_count": 5,
     "metadata": {},
     "output_type": "execute_result"
    }
   ],
   "source": [
    "pd.DataFrame(df_model.nunique()).rename(columns = {0: \"num_unique\"})"
   ]
  },
  {
   "cell_type": "code",
   "execution_count": 14,
   "id": "75140188",
   "metadata": {},
   "outputs": [],
   "source": [
    "\n",
    "# declaring categorical features for catboost model\n",
    "cat_features = [\"IncomePA\", \"KRA YN\", \"cm_occup\", \"E2Channel\", \"IsKarvy\"]\n",
    "\n"
   ]
  },
  {
   "cell_type": "code",
   "execution_count": 15,
   "id": "f6f465d0",
   "metadata": {},
   "outputs": [],
   "source": [
    "\n",
    "# removing client_code\n",
    "# X = X.drop(\"cm_cd\", axis = 1)\n",
    "X[\"IsKarvy\"] = X[\"IsKarvy\"].astype(int)\n"
   ]
  },
  {
   "cell_type": "code",
   "execution_count": 16,
   "id": "f977397f",
   "metadata": {},
   "outputs": [],
   "source": [
    "X.to_csv(\"../inter_data/X_cat.csv\")\n",
    "y.to_csv(\"../inter_data/y_cat.csv\")"
   ]
  },
  {
   "cell_type": "code",
   "execution_count": 17,
   "id": "5dda9634",
   "metadata": {},
   "outputs": [],
   "source": [
    "\n",
    "# train test split\n",
    "from sklearn.model_selection import train_test_split\n",
    "\n",
    "X_train, X_val, y_train, y_val = train_test_split(X, y, test_size=0.2, random_state=0)\n"
   ]
  },
  {
   "cell_type": "code",
   "execution_count": 18,
   "id": "77bfa798",
   "metadata": {},
   "outputs": [
    {
     "data": {
      "text/plain": [
       "((50305, 11), (50305,), (12577, 11), (12577,))"
      ]
     },
     "execution_count": 18,
     "metadata": {},
     "output_type": "execute_result"
    }
   ],
   "source": [
    "X_train.shape, y_train.shape, X_val.shape, y_val.shape"
   ]
  },
  {
   "cell_type": "code",
   "execution_count": 19,
   "id": "61f4109f",
   "metadata": {},
   "outputs": [
    {
     "data": {
      "application/vnd.jupyter.widget-view+json": {
       "model_id": "39d9f41c9cb64b43ac7b3ef611c17295",
       "version_major": 2,
       "version_minor": 0
      },
      "text/plain": [
       "MetricVisualizer(layout=Layout(align_self='stretch', height='500px'))"
      ]
     },
     "metadata": {},
     "output_type": "display_data"
    },
    {
     "name": "stdout",
     "output_type": "stream",
     "text": [
      "0:\tlearn: 0.5094330\ttest: 0.5095300\tbest: 0.5095300 (0)\ttotal: 197ms\tremaining: 14.5s\n",
      "1:\tlearn: 0.4411218\ttest: 0.4417733\tbest: 0.4417733 (1)\ttotal: 226ms\tremaining: 8.24s\n",
      "2:\tlearn: 0.4105521\ttest: 0.4119889\tbest: 0.4119889 (2)\ttotal: 259ms\tremaining: 6.21s\n",
      "3:\tlearn: 0.3832936\ttest: 0.3854059\tbest: 0.3854059 (3)\ttotal: 291ms\tremaining: 5.16s\n",
      "4:\tlearn: 0.3614649\ttest: 0.3641184\tbest: 0.3641184 (4)\ttotal: 322ms\tremaining: 4.51s\n",
      "5:\tlearn: 0.3409917\ttest: 0.3444986\tbest: 0.3444986 (5)\ttotal: 357ms\tremaining: 4.11s\n",
      "6:\tlearn: 0.3327784\ttest: 0.3368530\tbest: 0.3368530 (6)\ttotal: 389ms\tremaining: 3.77s\n",
      "7:\tlearn: 0.3303807\ttest: 0.3348840\tbest: 0.3348840 (7)\ttotal: 428ms\tremaining: 3.59s\n",
      "8:\tlearn: 0.3220187\ttest: 0.3271257\tbest: 0.3271257 (8)\ttotal: 460ms\tremaining: 3.37s\n",
      "9:\tlearn: 0.3191420\ttest: 0.3241714\tbest: 0.3241714 (9)\ttotal: 490ms\tremaining: 3.19s\n",
      "10:\tlearn: 0.3146798\ttest: 0.3189684\tbest: 0.3189684 (10)\ttotal: 519ms\tremaining: 3.02s\n",
      "11:\tlearn: 0.3129052\ttest: 0.3175019\tbest: 0.3175019 (11)\ttotal: 549ms\tremaining: 2.88s\n",
      "12:\tlearn: 0.3105321\ttest: 0.3159496\tbest: 0.3159496 (12)\ttotal: 579ms\tremaining: 2.76s\n",
      "13:\tlearn: 0.3093004\ttest: 0.3146261\tbest: 0.3146261 (13)\ttotal: 610ms\tremaining: 2.66s\n",
      "14:\tlearn: 0.3086010\ttest: 0.3140890\tbest: 0.3140890 (14)\ttotal: 640ms\tremaining: 2.56s\n",
      "15:\tlearn: 0.3009627\ttest: 0.3069364\tbest: 0.3069364 (15)\ttotal: 670ms\tremaining: 2.47s\n",
      "16:\tlearn: 0.2979789\ttest: 0.3041342\tbest: 0.3041342 (16)\ttotal: 702ms\tremaining: 2.4s\n",
      "17:\tlearn: 0.2956518\ttest: 0.3012411\tbest: 0.3012411 (17)\ttotal: 734ms\tremaining: 2.33s\n",
      "18:\tlearn: 0.2950141\ttest: 0.3006598\tbest: 0.3006598 (18)\ttotal: 765ms\tremaining: 2.25s\n",
      "19:\tlearn: 0.2942060\ttest: 0.3003460\tbest: 0.3003460 (19)\ttotal: 809ms\tremaining: 2.22s\n",
      "20:\tlearn: 0.2936189\ttest: 0.3001832\tbest: 0.3001832 (20)\ttotal: 848ms\tremaining: 2.18s\n",
      "21:\tlearn: 0.2913662\ttest: 0.2981275\tbest: 0.2981275 (21)\ttotal: 879ms\tremaining: 2.12s\n",
      "22:\tlearn: 0.2902354\ttest: 0.2973228\tbest: 0.2973228 (22)\ttotal: 915ms\tremaining: 2.07s\n",
      "23:\tlearn: 0.2889094\ttest: 0.2960995\tbest: 0.2960995 (23)\ttotal: 950ms\tremaining: 2.02s\n",
      "24:\tlearn: 0.2872328\ttest: 0.2947105\tbest: 0.2947105 (24)\ttotal: 981ms\tremaining: 1.96s\n",
      "25:\tlearn: 0.2861025\ttest: 0.2933696\tbest: 0.2933696 (25)\ttotal: 1.01s\tremaining: 1.91s\n",
      "26:\tlearn: 0.2833007\ttest: 0.2910652\tbest: 0.2910652 (26)\ttotal: 1.05s\tremaining: 1.86s\n",
      "27:\tlearn: 0.2814677\ttest: 0.2892920\tbest: 0.2892920 (27)\ttotal: 1.08s\tremaining: 1.81s\n",
      "28:\tlearn: 0.2812523\ttest: 0.2890774\tbest: 0.2890774 (28)\ttotal: 1.11s\tremaining: 1.76s\n",
      "29:\tlearn: 0.2801660\ttest: 0.2881354\tbest: 0.2881354 (29)\ttotal: 1.14s\tremaining: 1.71s\n",
      "30:\tlearn: 0.2770823\ttest: 0.2847938\tbest: 0.2847938 (30)\ttotal: 1.17s\tremaining: 1.66s\n",
      "31:\tlearn: 0.2754511\ttest: 0.2832064\tbest: 0.2832064 (31)\ttotal: 1.2s\tremaining: 1.61s\n",
      "32:\tlearn: 0.2695255\ttest: 0.2768869\tbest: 0.2768869 (32)\ttotal: 1.24s\tremaining: 1.58s\n",
      "33:\tlearn: 0.2693498\ttest: 0.2767975\tbest: 0.2767975 (33)\ttotal: 1.27s\tremaining: 1.53s\n",
      "34:\tlearn: 0.2679944\ttest: 0.2755821\tbest: 0.2755821 (34)\ttotal: 1.3s\tremaining: 1.49s\n",
      "35:\tlearn: 0.2663355\ttest: 0.2740631\tbest: 0.2740631 (35)\ttotal: 1.33s\tremaining: 1.44s\n",
      "36:\tlearn: 0.2660057\ttest: 0.2740928\tbest: 0.2740631 (35)\ttotal: 1.36s\tremaining: 1.4s\n",
      "37:\tlearn: 0.2653028\ttest: 0.2731444\tbest: 0.2731444 (37)\ttotal: 1.39s\tremaining: 1.35s\n",
      "38:\tlearn: 0.2635451\ttest: 0.2717209\tbest: 0.2717209 (38)\ttotal: 1.42s\tremaining: 1.31s\n",
      "39:\tlearn: 0.2629399\ttest: 0.2714145\tbest: 0.2714145 (39)\ttotal: 1.45s\tremaining: 1.27s\n",
      "40:\tlearn: 0.2614785\ttest: 0.2703624\tbest: 0.2703624 (40)\ttotal: 1.48s\tremaining: 1.23s\n",
      "41:\tlearn: 0.2580639\ttest: 0.2662132\tbest: 0.2662132 (41)\ttotal: 1.51s\tremaining: 1.19s\n",
      "42:\tlearn: 0.2569915\ttest: 0.2650824\tbest: 0.2650824 (42)\ttotal: 1.54s\tremaining: 1.15s\n",
      "43:\tlearn: 0.2569046\ttest: 0.2649261\tbest: 0.2649261 (43)\ttotal: 1.57s\tremaining: 1.11s\n",
      "44:\tlearn: 0.2564939\ttest: 0.2645907\tbest: 0.2645907 (44)\ttotal: 1.6s\tremaining: 1.07s\n",
      "45:\tlearn: 0.2561819\ttest: 0.2643781\tbest: 0.2643781 (45)\ttotal: 1.63s\tremaining: 1.03s\n",
      "46:\tlearn: 0.2553390\ttest: 0.2635378\tbest: 0.2635378 (46)\ttotal: 1.69s\tremaining: 1.01s\n",
      "47:\tlearn: 0.2553163\ttest: 0.2635169\tbest: 0.2635169 (47)\ttotal: 1.74s\tremaining: 976ms\n",
      "48:\tlearn: 0.2546953\ttest: 0.2628571\tbest: 0.2628571 (48)\ttotal: 1.76s\tremaining: 936ms\n",
      "49:\tlearn: 0.2537604\ttest: 0.2621497\tbest: 0.2621497 (49)\ttotal: 1.79s\tremaining: 895ms\n",
      "50:\tlearn: 0.2532883\ttest: 0.2616390\tbest: 0.2616390 (50)\ttotal: 1.82s\tremaining: 856ms\n",
      "51:\tlearn: 0.2530317\ttest: 0.2614231\tbest: 0.2614231 (51)\ttotal: 1.84s\tremaining: 816ms\n",
      "52:\tlearn: 0.2527418\ttest: 0.2612646\tbest: 0.2612646 (52)\ttotal: 1.88s\tremaining: 779ms\n",
      "53:\tlearn: 0.2503355\ttest: 0.2590887\tbest: 0.2590887 (53)\ttotal: 1.91s\tremaining: 743ms\n",
      "54:\tlearn: 0.2494164\ttest: 0.2580849\tbest: 0.2580849 (54)\ttotal: 1.96s\tremaining: 713ms\n",
      "55:\tlearn: 0.2494071\ttest: 0.2580860\tbest: 0.2580849 (54)\ttotal: 1.99s\tremaining: 674ms\n",
      "56:\tlearn: 0.2473261\ttest: 0.2558983\tbest: 0.2558983 (56)\ttotal: 2.01s\tremaining: 636ms\n",
      "57:\tlearn: 0.2451320\ttest: 0.2538036\tbest: 0.2538036 (57)\ttotal: 2.04s\tremaining: 598ms\n",
      "58:\tlearn: 0.2439009\ttest: 0.2522985\tbest: 0.2522985 (58)\ttotal: 2.07s\tremaining: 561ms\n",
      "59:\tlearn: 0.2433300\ttest: 0.2517490\tbest: 0.2517490 (59)\ttotal: 2.1s\tremaining: 524ms\n",
      "60:\tlearn: 0.2428704\ttest: 0.2513196\tbest: 0.2513196 (60)\ttotal: 2.13s\tremaining: 488ms\n",
      "61:\tlearn: 0.2414496\ttest: 0.2503140\tbest: 0.2503140 (61)\ttotal: 2.16s\tremaining: 452ms\n",
      "62:\tlearn: 0.2411574\ttest: 0.2502270\tbest: 0.2502270 (62)\ttotal: 2.18s\tremaining: 416ms\n",
      "63:\tlearn: 0.2411445\ttest: 0.2502362\tbest: 0.2502270 (62)\ttotal: 2.21s\tremaining: 380ms\n",
      "64:\tlearn: 0.2411377\ttest: 0.2502163\tbest: 0.2502163 (64)\ttotal: 2.24s\tremaining: 345ms\n",
      "65:\tlearn: 0.2395888\ttest: 0.2482182\tbest: 0.2482182 (65)\ttotal: 2.27s\tremaining: 309ms\n",
      "66:\tlearn: 0.2394488\ttest: 0.2480947\tbest: 0.2480947 (66)\ttotal: 2.29s\tremaining: 274ms\n",
      "67:\tlearn: 0.2381777\ttest: 0.2469642\tbest: 0.2469642 (67)\ttotal: 2.32s\tremaining: 239ms\n",
      "68:\tlearn: 0.2380292\ttest: 0.2469213\tbest: 0.2469213 (68)\ttotal: 2.35s\tremaining: 204ms\n",
      "69:\tlearn: 0.2367250\ttest: 0.2456589\tbest: 0.2456589 (69)\ttotal: 2.38s\tremaining: 170ms\n",
      "70:\tlearn: 0.2365320\ttest: 0.2456243\tbest: 0.2456243 (70)\ttotal: 2.4s\tremaining: 135ms\n",
      "71:\tlearn: 0.2353023\ttest: 0.2447560\tbest: 0.2447560 (71)\ttotal: 2.43s\tremaining: 101ms\n",
      "72:\tlearn: 0.2337097\ttest: 0.2430872\tbest: 0.2430872 (72)\ttotal: 2.46s\tremaining: 67.4ms\n",
      "73:\tlearn: 0.2327016\ttest: 0.2418089\tbest: 0.2418089 (73)\ttotal: 2.49s\tremaining: 33.6ms\n",
      "74:\tlearn: 0.2322856\ttest: 0.2414141\tbest: 0.2414141 (74)\ttotal: 2.52s\tremaining: 0us\n",
      "\n",
      "bestTest = 0.2414141351\n",
      "bestIteration = 74\n",
      "\n"
     ]
    },
    {
     "data": {
      "text/plain": [
       "<catboost.core.CatBoostClassifier at 0x1ed1e199430>"
      ]
     },
     "execution_count": 19,
     "metadata": {},
     "output_type": "execute_result"
    }
   ],
   "source": [
    "\n",
    "from catboost import CatBoostClassifier\n",
    "\n",
    "\n",
    "\n",
    "from catboost import CatBoostClassifier\n",
    "\n",
    "cat_clf = CatBoostClassifier(\n",
    "    iterations=75,\n",
    "    random_seed=42,\n",
    "    learning_rate=0.5,\n",
    "    custom_loss=['AUC', 'Accuracy', 'Recall', \"F1\"]\n",
    ")\n",
    "\n",
    "\n",
    "cat_clf.fit(\n",
    "    X_train, y_train,\n",
    "    cat_features=cat_features,\n",
    "    eval_set=(X_val, y_val),\n",
    "    verbose=True,\n",
    "    plot=True\n",
    ")\n",
    "\n"
   ]
  },
  {
   "cell_type": "code",
   "execution_count": 20,
   "id": "4400a93e",
   "metadata": {},
   "outputs": [],
   "source": [
    "\n",
    "y_train_pred = cat_clf.predict(X_train)\n",
    "train_result = pd.DataFrame({'Converted':y_train, 'Converted_prob':y_train_pred, \"prospect_ID\": y_train.index})\n"
   ]
  },
  {
   "cell_type": "code",
   "execution_count": 58,
   "id": "28d8a363",
   "metadata": {},
   "outputs": [
    {
     "data": {
      "text/plain": [
       "Text(0.5, 0, 'False Positive Rate')"
      ]
     },
     "execution_count": 58,
     "metadata": {},
     "output_type": "execute_result"
    },
    {
     "data": {
      "image/png": "[encoded data removed]",
      "text/plain": [
       "<Figure size 720x504 with 1 Axes>"
      ]
     },
     "metadata": {},
     "output_type": "display_data"
    }
   ],
   "source": [
    "\n",
    "import sklearn.metrics as metrics\n",
    "sns.set(rc={'figure.figsize':(10,7)})\n",
    "\n",
    "fpr, tpr, threshold = metrics.roc_curve(y_train, y_train_pred)\n",
    "roc_auc = metrics.auc(fpr, tpr)\n",
    "\n",
    "\n",
    "plt.title(\"Receiver Operating Charecteristic for training data\")\n",
    "plt.plot(fpr, tpr, 'b', label = 'AUC = %0.2f'% roc_auc)\n",
    "plt.legend(loc = \"lower right\")\n",
    "plt.plot([0, 1], [0, 1], 'r--')\n",
    "plt.xlim([0, 1])\n",
    "plt.ylim([0, 1])\n",
    "plt.ylabel('True Positive Rate')\n",
    "plt.xlabel('False Positive Rate')\n"
   ]
  },
  {
   "cell_type": "code",
   "execution_count": 81,
   "id": "28c5add1",
   "metadata": {},
   "outputs": [
    {
     "data": {
      "text/plain": [
       "Text(0.5, 0, 'False Positive Rate')"
      ]
     },
     "execution_count": 81,
     "metadata": {},
     "output_type": "execute_result"
    },
    {
     "data": {
      "image/png": "[encoded data removed]",
      "text/plain": [
       "<Figure size 720x504 with 1 Axes>"
      ]
     },
     "metadata": {},
     "output_type": "display_data"
    }
   ],
   "source": [
    "\n",
    "y_val_pred = cat_clf.predict(X_val)\n",
    "val_result = pd.DataFrame({'Converted':y_val, 'Converted_prob':y_val_pred, \"prospect_ID\": y_val.index})\n",
    "\n",
    "import sklearn.metrics as metrics\n",
    "sns.set(rc={'figure.figsize':(10,7)})\n",
    "\n",
    "fpr, tpr, threshold = metrics.roc_curve(y_val, y_val_pred)\n",
    "roc_auc = metrics.auc(fpr, tpr)\n",
    "\n",
    "\n",
    "plt.title(\"Receiver Operating Charecteristic for training data\")\n",
    "plt.plot(fpr, tpr, 'b', label = 'AUC = %0.2f'% roc_auc)\n",
    "plt.legend(loc = \"lower right\")\n",
    "plt.plot([0, 1], [0, 1], 'r--')\n",
    "plt.xlim([0, 1])\n",
    "plt.ylim([0, 1])\n",
    "plt.ylabel('True Positive Rate')\n",
    "plt.xlabel('False Positive Rate')\n"
   ]
  },
  {
   "cell_type": "code",
   "execution_count": 21,
   "id": "9c126854",
   "metadata": {},
   "outputs": [
    {
     "data": {
      "text/plain": [
       "<AxesSubplot:>"
      ]
     },
     "execution_count": 21,
     "metadata": {},
     "output_type": "execute_result"
    },
    {
     "data": {
      "image/png": "[encoded data removed]",
      "text/plain": [
       "<Figure size 432x288 with 2 Axes>"
      ]
     },
     "metadata": {
      "needs_background": "light"
     },
     "output_type": "display_data"
    }
   ],
   "source": [
    "from sklearn.metrics import confusion_matrix\n",
    "sns.heatmap((confusion_matrix(y, cat_clf.predict(X))), annot = True)"
   ]
  },
  {
   "cell_type": "markdown",
   "id": "cdfcf346",
   "metadata": {},
   "source": [
    "## Predictions"
   ]
  },
  {
   "cell_type": "code",
   "execution_count": 104,
   "id": "3f56d429",
   "metadata": {},
   "outputs": [],
   "source": [
    "df_post_trade = pd.read_csv(\"../../../data/clients_trading_post_etf.csv\")\n",
    "df_post_trade = df_post_trade[df_post_trade[\"ETFDatetime\"] > '1910-01-01']\n",
    "df_post_trade = df_post_trade.sort_values(['trn_date']).drop_duplicates(['Client_Code'], keep='last', ignore_index=True)\n",
    "\n",
    "\n",
    "probs = cat_clf.predict_proba(X)\n",
    "df_probs = pd.DataFrame({\"true\": y, \n",
    "                         \"probabilities_0\": probs[:, 0], \n",
    "                         \"probabilities_1\": probs[:, 1], \n",
    "                         \"prospect_ID\": y.index})\n",
    "\n",
    "\n",
    "df_probs[\"client_code\"] = df_model[df_model[\"cm_cd\"].index == df_probs[\"prospect_ID\"]][\"cm_cd\"]"
   ]
  },
  {
   "cell_type": "code",
   "execution_count": 106,
   "id": "04ce1427",
   "metadata": {},
   "outputs": [
    {
     "data": {
      "text/html": [
       "<div>\n",
       "<style scoped>\n",
       "    .dataframe tbody tr th:only-of-type {\n",
       "        vertical-align: middle;\n",
       "    }\n",
       "\n",
       "    .dataframe tbody tr th {\n",
       "        vertical-align: top;\n",
       "    }\n",
       "\n",
       "    .dataframe thead th {\n",
       "        text-align: right;\n",
       "    }\n",
       "</style>\n",
       "<table border=\"1\" class=\"dataframe\">\n",
       "  <thead>\n",
       "    <tr style=\"text-align: right;\">\n",
       "      <th></th>\n",
       "      <th>Client_Code</th>\n",
       "      <th>trn_date</th>\n",
       "      <th>ETFDatetime</th>\n",
       "    </tr>\n",
       "  </thead>\n",
       "  <tbody>\n",
       "    <tr>\n",
       "      <th>0</th>\n",
       "      <td>RAPT1001</td>\n",
       "      <td>20210729</td>\n",
       "      <td>2021-07-26 15:26:29.440</td>\n",
       "    </tr>\n",
       "    <tr>\n",
       "      <th>1</th>\n",
       "      <td>JPSINGH1</td>\n",
       "      <td>20210802</td>\n",
       "      <td>2021-07-30 14:45:04.307</td>\n",
       "    </tr>\n",
       "    <tr>\n",
       "      <th>2</th>\n",
       "      <td>JAY18199</td>\n",
       "      <td>20210803</td>\n",
       "      <td>2021-07-30 14:45:04.057</td>\n",
       "    </tr>\n",
       "    <tr>\n",
       "      <th>3</th>\n",
       "      <td>86527151</td>\n",
       "      <td>20210803</td>\n",
       "      <td>2021-08-02 14:45:33.570</td>\n",
       "    </tr>\n",
       "    <tr>\n",
       "      <th>4</th>\n",
       "      <td>82352898</td>\n",
       "      <td>20210803</td>\n",
       "      <td>2021-08-02 14:45:32.307</td>\n",
       "    </tr>\n",
       "    <tr>\n",
       "      <th>...</th>\n",
       "      <td>...</td>\n",
       "      <td>...</td>\n",
       "      <td>...</td>\n",
       "    </tr>\n",
       "    <tr>\n",
       "      <th>70361</th>\n",
       "      <td>24833776</td>\n",
       "      <td>20211122</td>\n",
       "      <td>2021-10-20 16:00:58.127</td>\n",
       "    </tr>\n",
       "    <tr>\n",
       "      <th>70362</th>\n",
       "      <td>10184JMD</td>\n",
       "      <td>20211122</td>\n",
       "      <td>2021-11-12 16:00:02.630</td>\n",
       "    </tr>\n",
       "    <tr>\n",
       "      <th>70363</th>\n",
       "      <td>34877434</td>\n",
       "      <td>20211122</td>\n",
       "      <td>2021-09-09 14:45:19.927</td>\n",
       "    </tr>\n",
       "    <tr>\n",
       "      <th>70364</th>\n",
       "      <td>52236113</td>\n",
       "      <td>20211122</td>\n",
       "      <td>2021-11-03 16:01:00.683</td>\n",
       "    </tr>\n",
       "    <tr>\n",
       "      <th>70365</th>\n",
       "      <td>KOTESWRB</td>\n",
       "      <td>20211122</td>\n",
       "      <td>2021-09-24 14:50:56.980</td>\n",
       "    </tr>\n",
       "  </tbody>\n",
       "</table>\n",
       "<p>70366 rows × 3 columns</p>\n",
       "</div>"
      ],
      "text/plain": [
       "      Client_Code  trn_date              ETFDatetime\n",
       "0        RAPT1001  20210729  2021-07-26 15:26:29.440\n",
       "1        JPSINGH1  20210802  2021-07-30 14:45:04.307\n",
       "2        JAY18199  20210803  2021-07-30 14:45:04.057\n",
       "3        86527151  20210803  2021-08-02 14:45:33.570\n",
       "4        82352898  20210803  2021-08-02 14:45:32.307\n",
       "...           ...       ...                      ...\n",
       "70361    24833776  20211122  2021-10-20 16:00:58.127\n",
       "70362    10184JMD  20211122  2021-11-12 16:00:02.630\n",
       "70363    34877434  20211122  2021-09-09 14:45:19.927\n",
       "70364    52236113  20211122  2021-11-03 16:01:00.683\n",
       "70365    KOTESWRB  20211122  2021-09-24 14:50:56.980\n",
       "\n",
       "[70366 rows x 3 columns]"
      ]
     },
     "execution_count": 106,
     "metadata": {},
     "output_type": "execute_result"
    }
   ],
   "source": [
    "df_post_trade"
   ]
  },
  {
   "cell_type": "code",
   "execution_count": 109,
   "id": "1a95f48e",
   "metadata": {},
   "outputs": [],
   "source": [
    "from datetime import datetime\n",
    "from datetime import date\n",
    "now = datetime.now()"
   ]
  },
  {
   "cell_type": "code",
   "execution_count": 114,
   "id": "1abeeb6a",
   "metadata": {},
   "outputs": [],
   "source": [
    "df_probs = df_probs[(df_probs[\"probabilities_1\"] > 0.5) & (~df_probs[\"client_code\"].isin(df_post_trade[\"Client_Code\"]))]\n",
    "\n",
    "date = \"{}{:2d}{:2d}\".format(now.year, now.month, now.day)\n",
    "df_probs[[\"client_code\"]].to_csv(\"../predictions/predictions_{}\".format(date))"
   ]
  },
  {
   "cell_type": "code",
   "execution_count": 115,
   "id": "bf71341b",
   "metadata": {},
   "outputs": [
    {
     "data": {
      "text/plain": [
       "(272619, 5)"
      ]
     },
     "execution_count": 115,
     "metadata": {},
     "output_type": "execute_result"
    }
   ],
   "source": []
  },
  {
   "cell_type": "code",
   "execution_count": 65,
   "id": "e3cbec2b",
   "metadata": {
    "collapsed": true
   },
   "outputs": [
    {
     "data": {
      "text/plain": [
       "((1529696, 17),\n",
       " 0.0    1203398\n",
       " 1.0     326298\n",
       " Name: target, dtype: int64)"
      ]
     },
     "execution_count": 65,
     "metadata": {},
     "output_type": "execute_result"
    }
   ],
   "source": [
    "df_model.shape, df_model[\"target\"].value_counts()"
   ]
  },
  {
   "cell_type": "code",
   "execution_count": 67,
   "id": "a9d4796e",
   "metadata": {
    "collapsed": true
   },
   "outputs": [
    {
     "data": {
      "text/plain": [
       "(0.0    962986\n",
       " 1.0    260770\n",
       " Name: target, dtype: int64,\n",
       " 0.0    240412\n",
       " 1.0     65528\n",
       " Name: target, dtype: int64)"
      ]
     },
     "execution_count": 67,
     "metadata": {},
     "output_type": "execute_result"
    }
   ],
   "source": [
    "y_train.value_counts(),y_val.value_counts()"
   ]
  },
  {
   "cell_type": "code",
   "execution_count": 76,
   "id": "39f59fcd",
   "metadata": {},
   "outputs": [
    {
     "name": "stderr",
     "output_type": "stream",
     "text": [
      "The syntax of the command is incorrect.\n"
     ]
    }
   ],
   "source": [
    "try:\n",
    "    !mkdir ../models\n",
    "except:\n",
    "    pass\n",
    "cat_clf.save_model('../models/catboost_classifier')"
   ]
  },
  {
   "cell_type": "code",
   "execution_count": null,
   "id": "4d8bb4b7",
   "metadata": {},
   "outputs": [],
   "source": []
  }
 ],
 "metadata": {
  "kernelspec": {
   "display_name": "Python 3 (ipykernel)",
   "language": "python",
   "name": "python3"
  },
  "language_info": {
   "codemirror_mode": {
    "name": "ipython",
    "version": 3
   },
   "file_extension": ".py",
   "mimetype": "text/x-python",
   "name": "python",
   "nbconvert_exporter": "python",
   "pygments_lexer": "ipython3",
   "version": "3.8.8"
  }
 },
 "nbformat": 4,
 "nbformat_minor": 5
}
